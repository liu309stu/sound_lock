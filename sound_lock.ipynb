{
 "cells": [
  {
   "cell_type": "markdown",
   "metadata": {},
   "source": [
    "# Sound lock for every one"
   ]
  },
  {
   "cell_type": "markdown",
   "metadata": {},
   "source": [
    "这是一个关于智能门锁的项目,这个项目旨在使用机器学习的方式，实现声纹识别，应用于门锁之中。"
   ]
  },
  {
   "cell_type": "markdown",
   "metadata": {},
   "source": [
    "在此，非常感谢Google提供的免费GPU资源，还有ARM社区提供的关于树莓派Pico的一些关键资料，接下来，这个项目正式开始了。"
   ]
  },
  {
   "cell_type": "markdown",
   "metadata": {},
   "source": [
    "The great project is started ！！！"
   ]
  },
  {
   "cell_type": "code",
   "execution_count": null,
   "metadata": {},
   "outputs": [],
   "source": [
    "# 这里要做的就是环境的一些准备\n",
    "! "
   ]
  },
  {
   "cell_type": "code",
   "execution_count": null,
   "metadata": {},
   "outputs": [],
   "source": [
    "\n"
   ]
  }
 ],
 "metadata": {
  "language_info": {
   "name": "python"
  }
 },
 "nbformat": 4,
 "nbformat_minor": 2
}
