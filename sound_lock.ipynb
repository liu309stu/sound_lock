{
  "cells": [
    {
      "cell_type": "markdown",
      "metadata": {
        "id": "view-in-github",
        "colab_type": "text"
      },
      "source": [
        "<a href=\"https://colab.research.google.com/github/liu309stu/sound_lock/blob/main/sound_lock.ipynb\" target=\"_parent\"><img src=\"https://colab.research.google.com/assets/colab-badge.svg\" alt=\"Open In Colab\"/></a>"
      ]
    },
    {
      "cell_type": "markdown",
      "metadata": {
        "id": "y7eaAJ-5fO-R"
      },
      "source": [
        "# Sound lock for every one"
      ]
    },
    {
      "cell_type": "markdown",
      "metadata": {
        "id": "wG8XJi0RfO-S"
      },
      "source": [
        "这是一个关于智能门锁的项目,这个项目旨在使用机器学习的方式，实现声纹识别，应用于门锁之中。"
      ]
    },
    {
      "cell_type": "markdown",
      "metadata": {
        "id": "ZiNbQWttfO-T"
      },
      "source": [
        "在此，非常感谢Google提供的免费GPU资源，还有ARM社区提供的关于树莓派Pico的一些关键资料，接下来，这个项目正式开始了。"
      ]
    },
    {
      "cell_type": "markdown",
      "metadata": {
        "id": "fEDQmSp7fO-T"
      },
      "source": [
        "The great project is started ！！！"
      ]
    },
    {
      "cell_type": "code",
      "execution_count": null,
      "metadata": {
        "id": "Z96vwxNYfO-T"
      },
      "outputs": [],
      "source": [
        "# 这里要做的就是环境的一些准备\n",
        "! pwd\n",
        "!"
      ]
    },
    {
      "cell_type": "code",
      "execution_count": null,
      "metadata": {
        "id": "QyFmkeCCfO-U"
      },
      "outputs": [],
      "source": [
        "\n"
      ]
    }
  ],
  "metadata": {
    "language_info": {
      "name": "python"
    },
    "colab": {
      "provenance": [],
      "include_colab_link": true
    }
  },
  "nbformat": 4,
  "nbformat_minor": 0
}