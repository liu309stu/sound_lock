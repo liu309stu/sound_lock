{
  "cells": [
    {
      "cell_type": "markdown",
      "metadata": {
        "id": "y7eaAJ-5fO-R"
      },
      "source": [
        "# Sound lock for every one"
      ]
    },
    {
      "cell_type": "markdown",
      "metadata": {
        "id": "wG8XJi0RfO-S"
      },
      "source": [
        "这是一个关于智能门锁的项目,这个项目旨在使用机器学习的方式，实现声纹识别，应用于门锁之中。"
      ]
    },
    {
      "cell_type": "markdown",
      "metadata": {
        "id": "ZiNbQWttfO-T"
      },
      "source": [
        "在此，非常感谢Google提供的免费GPU资源，还有ARM社区提供的关于树莓派Pico的一些关键资料，接下来，这个项目正式开始了。"
      ]
    },
    {
      "cell_type": "markdown",
      "metadata": {
        "id": "fEDQmSp7fO-T"
      },
      "source": [
        "The great project is started ！！！"
      ]
    },
    {
      "cell_type": "code",
      "execution_count": 1,
      "metadata": {
        "colab": {
          "base_uri": "https://localhost:8080/"
        },
        "id": "Z96vwxNYfO-T",
        "outputId": "a3ca9dd6-8181-4053-c205-7124fbec83ee"
      },
      "outputs": [
        {
          "output_type": "stream",
          "name": "stdout",
          "text": [
            "/content\n",
            "Get:1 https://cloud.r-project.org/bin/linux/ubuntu jammy-cran40/ InRelease [3,632 B]\n",
            "Get:2 https://developer.download.nvidia.com/compute/cuda/repos/ubuntu2204/x86_64  InRelease [1,581 B]\n",
            "Hit:3 http://archive.ubuntu.com/ubuntu jammy InRelease\n",
            "Get:4 http://archive.ubuntu.com/ubuntu jammy-updates InRelease [128 kB]\n",
            "Get:5 https://cloud.r-project.org/bin/linux/ubuntu jammy-cran40/ Packages [68.9 kB]\n",
            "Get:6 https://r2u.stat.illinois.edu/ubuntu jammy InRelease [6,555 B]\n",
            "Get:7 http://security.ubuntu.com/ubuntu jammy-security InRelease [129 kB]\n",
            "Get:8 https://developer.download.nvidia.com/compute/cuda/repos/ubuntu2204/x86_64  Packages [1,321 kB]\n",
            "Get:9 http://archive.ubuntu.com/ubuntu jammy-backports InRelease [127 kB]\n",
            "Get:10 https://r2u.stat.illinois.edu/ubuntu jammy/main all Packages [8,708 kB]\n",
            "Get:11 http://archive.ubuntu.com/ubuntu jammy-updates/universe amd64 Packages [1,533 kB]\n",
            "Hit:12 https://ppa.launchpadcontent.net/deadsnakes/ppa/ubuntu jammy InRelease\n",
            "Hit:13 https://ppa.launchpadcontent.net/graphics-drivers/ppa/ubuntu jammy InRelease\n",
            "Get:14 http://security.ubuntu.com/ubuntu jammy-security/main amd64 Packages [2,649 kB]\n",
            "Get:15 http://archive.ubuntu.com/ubuntu jammy-updates/restricted amd64 Packages [3,830 kB]\n",
            "Hit:16 https://ppa.launchpadcontent.net/ubuntugis/ppa/ubuntu jammy InRelease\n",
            "Get:17 http://archive.ubuntu.com/ubuntu jammy-updates/main amd64 Packages [2,956 kB]\n",
            "Get:18 https://r2u.stat.illinois.edu/ubuntu jammy/main amd64 Packages [2,665 kB]\n",
            "Get:19 http://security.ubuntu.com/ubuntu jammy-security/universe amd64 Packages [1,235 kB]\n",
            "Get:20 http://security.ubuntu.com/ubuntu jammy-security/restricted amd64 Packages [3,688 kB]\n",
            "Fetched 29.0 MB in 3s (8,371 kB/s)\n",
            "Reading package lists... Done\n",
            "W: Skipping acquire of configured file 'main/source/Sources' as repository 'https://r2u.stat.illinois.edu/ubuntu jammy InRelease' does not seem to provide it (sources.list entry misspelt?)\n",
            "Reading package lists... Done\n",
            "Building dependency tree... Done\n",
            "Reading state information... Done\n",
            "The following additional packages will be installed:\n",
            "  libpython3.9-minimal libpython3.9-stdlib python3.9-minimal\n",
            "Suggested packages:\n",
            "  python3.9-venv binfmt-support\n",
            "The following NEW packages will be installed:\n",
            "  libpython3.9-minimal libpython3.9-stdlib python3.9 python3.9-minimal\n",
            "0 upgraded, 4 newly installed, 0 to remove and 36 not upgraded.\n",
            "Need to get 4,846 kB of archives.\n",
            "After this operation, 18.9 MB of additional disk space will be used.\n",
            "Get:1 https://ppa.launchpadcontent.net/deadsnakes/ppa/ubuntu jammy/main amd64 libpython3.9-minimal amd64 3.9.21-1+jammy1 [837 kB]\n",
            "Get:2 https://ppa.launchpadcontent.net/deadsnakes/ppa/ubuntu jammy/main amd64 python3.9-minimal amd64 3.9.21-1+jammy1 [2,075 kB]\n",
            "Get:3 https://ppa.launchpadcontent.net/deadsnakes/ppa/ubuntu jammy/main amd64 libpython3.9-stdlib amd64 3.9.21-1+jammy1 [1,841 kB]\n",
            "Get:4 https://ppa.launchpadcontent.net/deadsnakes/ppa/ubuntu jammy/main amd64 python3.9 amd64 3.9.21-1+jammy1 [93.0 kB]\n",
            "Fetched 4,846 kB in 12s (411 kB/s)\n",
            "debconf: unable to initialize frontend: Dialog\n",
            "debconf: (No usable dialog-like program is installed, so the dialog based frontend cannot be used. at /usr/share/perl5/Debconf/FrontEnd/Dialog.pm line 78, <> line 4.)\n",
            "debconf: falling back to frontend: Readline\n",
            "debconf: unable to initialize frontend: Readline\n",
            "debconf: (This frontend requires a controlling tty.)\n",
            "debconf: falling back to frontend: Teletype\n",
            "dpkg-preconfigure: unable to re-open stdin: \n",
            "Selecting previously unselected package libpython3.9-minimal:amd64.\n",
            "(Reading database ... 124947 files and directories currently installed.)\n",
            "Preparing to unpack .../libpython3.9-minimal_3.9.21-1+jammy1_amd64.deb ...\n",
            "Unpacking libpython3.9-minimal:amd64 (3.9.21-1+jammy1) ...\n",
            "Selecting previously unselected package python3.9-minimal.\n",
            "Preparing to unpack .../python3.9-minimal_3.9.21-1+jammy1_amd64.deb ...\n",
            "Unpacking python3.9-minimal (3.9.21-1+jammy1) ...\n",
            "Selecting previously unselected package libpython3.9-stdlib:amd64.\n",
            "Preparing to unpack .../libpython3.9-stdlib_3.9.21-1+jammy1_amd64.deb ...\n",
            "Unpacking libpython3.9-stdlib:amd64 (3.9.21-1+jammy1) ...\n",
            "Selecting previously unselected package python3.9.\n",
            "Preparing to unpack .../python3.9_3.9.21-1+jammy1_amd64.deb ...\n",
            "Unpacking python3.9 (3.9.21-1+jammy1) ...\n",
            "Setting up libpython3.9-minimal:amd64 (3.9.21-1+jammy1) ...\n",
            "Setting up python3.9-minimal (3.9.21-1+jammy1) ...\n",
            "Setting up libpython3.9-stdlib:amd64 (3.9.21-1+jammy1) ...\n",
            "Setting up python3.9 (3.9.21-1+jammy1) ...\n",
            "Processing triggers for mailcap (3.70+nmu1ubuntu1) ...\n",
            "Processing triggers for man-db (2.10.2-1) ...\n",
            "Reading package lists... Done\n",
            "Building dependency tree... Done\n",
            "Reading state information... Done\n",
            "The following additional packages will be installed:\n",
            "  python3.9-lib2to3\n",
            "The following NEW packages will be installed:\n",
            "  python3.9-distutils python3.9-lib2to3\n",
            "0 upgraded, 2 newly installed, 0 to remove and 36 not upgraded.\n",
            "Need to get 319 kB of archives.\n",
            "After this operation, 1,234 kB of additional disk space will be used.\n",
            "Get:1 https://ppa.launchpadcontent.net/deadsnakes/ppa/ubuntu jammy/main amd64 python3.9-lib2to3 all 3.9.21-1+jammy1 [127 kB]\n",
            "Get:2 https://ppa.launchpadcontent.net/deadsnakes/ppa/ubuntu jammy/main amd64 python3.9-distutils all 3.9.21-1+jammy1 [193 kB]\n",
            "Fetched 319 kB in 2s (183 kB/s)\n",
            "debconf: unable to initialize frontend: Dialog\n",
            "debconf: (No usable dialog-like program is installed, so the dialog based frontend cannot be used. at /usr/share/perl5/Debconf/FrontEnd/Dialog.pm line 78, <> line 2.)\n",
            "debconf: falling back to frontend: Readline\n",
            "debconf: unable to initialize frontend: Readline\n",
            "debconf: (This frontend requires a controlling tty.)\n",
            "debconf: falling back to frontend: Teletype\n",
            "dpkg-preconfigure: unable to re-open stdin: \n",
            "Selecting previously unselected package python3.9-lib2to3.\n",
            "(Reading database ... 125586 files and directories currently installed.)\n",
            "Preparing to unpack .../python3.9-lib2to3_3.9.21-1+jammy1_all.deb ...\n",
            "Unpacking python3.9-lib2to3 (3.9.21-1+jammy1) ...\n",
            "Selecting previously unselected package python3.9-distutils.\n",
            "Preparing to unpack .../python3.9-distutils_3.9.21-1+jammy1_all.deb ...\n",
            "Unpacking python3.9-distutils (3.9.21-1+jammy1) ...\n",
            "Setting up python3.9-lib2to3 (3.9.21-1+jammy1) ...\n",
            "Setting up python3.9-distutils (3.9.21-1+jammy1) ...\n",
            "/usr/bin/python3.9: No module named ensurepip\n",
            "/usr/bin/python3.9: No module named pip\n",
            "然后切换到python3.9\n",
            "There are 3 choices for the alternative python3 (providing /usr/bin/python3).\n",
            "\n",
            "  Selection    Path                 Priority   Status\n",
            "------------------------------------------------------------\n",
            "* 0            /usr/bin/python3.11   2         auto mode\n",
            "  1            /usr/bin/python3.10   1         manual mode\n",
            "  2            /usr/bin/python3.11   2         manual mode\n",
            "  3            /usr/bin/python3.9    1         manual mode\n",
            "\n",
            "Press <enter> to keep the current choice[*], or type selection number: 3\n",
            "update-alternatives: using /usr/bin/python3.9 to provide /usr/bin/python3 (python3) in manual mode\n"
          ]
        }
      ],
      "source": [
        "# 这里要做的就是环境的一些准备\n",
        "! pwd\n",
        "!sudo apt-get update -y\n",
        "!sudo apt-get install python3.9\n",
        "!sudo apt-get install python3.9-distutils\n",
        "!python3.9 -m ensurepip\n",
        "!python3.9 -m pip install --upgrade pip\n",
        "!echo '然后切换到python3.9'\n",
        "!update-alternatives --install /usr/bin/python3 python3 /usr/bin/python3.9 1\n",
        "!update-alternatives --config python3  # 选择3.9"
      ]
    },
    {
      "cell_type": "code",
      "execution_count": null,
      "metadata": {
        "id": "QyFmkeCCfO-U"
      },
      "outputs": [],
      "source": [
        "# 检验python 版本 安装合适的 tensorflow\n",
        "! python --version\n",
        "! apt install pip\n",
        "! pip install tensorflow-gpu==2.10 tensorflow-io==0.30\n",
        "import tensorflow as tf\n",
        "print(tf.__version__)\n",
        "import tensorflow_io as tfio\n",
        "print(tfio.__version__)\n",
        "print(\"Num GPUs Available:\", len(tf.config.list_physical_devices('GPU')))"
      ]
    }
  ],
  "metadata": {
    "language_info": {
      "name": "python"
    },
    "colab": {
      "provenance": [],
      "gpuType": "T4"
    },
    "accelerator": "GPU",
    "kernelspec": {
      "name": "python3",
      "display_name": "Python 3"
    }
  },
  "nbformat": 4,
  "nbformat_minor": 0
}